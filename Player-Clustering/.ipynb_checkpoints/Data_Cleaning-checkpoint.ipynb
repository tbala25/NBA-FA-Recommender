{
 "cells": [
  {
   "cell_type": "code",
   "execution_count": 1,
   "metadata": {},
   "outputs": [],
   "source": [
    "import pandas as pd\n",
    "pd.set_option('display.max_columns', 500)\n",
    "pd.set_option('display.max_rows', 100)\n",
    "\n",
    "import seaborn as sns\n",
    "import matplotlib.pyplot as plt\n",
    "from scipy import stats\n",
    "import numpy as np\n",
    "import math"
   ]
  },
  {
   "cell_type": "code",
   "execution_count": 2,
   "metadata": {},
   "outputs": [],
   "source": [
    "#load data\n",
    "player_per100 = pd.read_csv('../Data/Player/2018/players_per100.csv')\n",
    "player_adv = pd.read_csv('../Data/Player/2018/players_advanced.csv')\n",
    "\n",
    "#drop unnamed and index columns\n",
    "player_adv = player_adv.drop(['Rk','Unnamed: 19', 'Unnamed: 24'], axis=1)\n",
    "player_per100 = player_per100.drop(['Rk','Unnamed: 29'], axis=1)\n"
   ]
  },
  {
   "cell_type": "code",
   "execution_count": null,
   "metadata": {},
   "outputs": [],
   "source": [
    "player_adv.head()"
   ]
  },
  {
   "cell_type": "code",
   "execution_count": 3,
   "metadata": {},
   "outputs": [],
   "source": [
    "#get players with TOT\n",
    "#delete their other rows\n",
    "players_w_tot = player_per100.loc[player_per100.loc[:,'Tm'] == 'TOT','Player']\n",
    "players_multi  = set(players_w_tot)\n",
    "\n",
    "for i in range(len(player_per100)):\n",
    "    #FIX POSITION\n",
    "    #if positions has '-' take first position\n",
    "    if '-' in player_per100.loc[i,'Pos']:\n",
    "        #print(p1.loc[i,'Pos_x'])\n",
    "        player_per100.loc[i,'Pos'] =  player_per100.loc[i,'Pos'].split('-')[0]\n",
    "\n",
    "    #ONLY KEEP TOT rows\n",
    "    if player_per100.loc[i, 'Player'] in players_multi:\n",
    "        #drop all rows where team is not TOT\n",
    "        if player_per100.loc[i, 'Tm'] != 'TOT':\n",
    "            #drop a row\n",
    "            player_per100 = player_per100.drop(i)\n",
    "\n",
    "            \n",
    "#get players with TOT\n",
    "#delete their other rows\n",
    "players_w_tot = player_adv.loc[player_adv.loc[:,'Tm'] == 'TOT','Player']\n",
    "players_multi  = set(players_w_tot)\n",
    "\n",
    "for i in range(len(player_adv)):\n",
    "    #FIX POSITION\n",
    "    #if positions has '-' take first position\n",
    "    if '-' in player_adv.loc[i,'Pos']:\n",
    "        #print(p1.loc[i,'Pos_x'])\n",
    "        player_adv.loc[i,'Pos'] =  player_adv.loc[i,'Pos'].split('-')[0]\n",
    "\n",
    "    #ONLY KEEP TOT rows\n",
    "    if player_adv.loc[i, 'Player'] in players_multi:\n",
    "        #drop all rows where team is not TOT\n",
    "        if player_adv.loc[i, 'Tm'] != 'TOT':\n",
    "            #drop a row\n",
    "            player_adv = player_adv.drop(i)\n",
    "\n"
   ]
  },
  {
   "cell_type": "code",
   "execution_count": 4,
   "metadata": {},
   "outputs": [],
   "source": [
    "##MERGING TABLES\n",
    "p1 = player_per100.merge(player_adv, left_on = 'Player', right_on = 'Player', how = 'left')\n",
    "p1 = p1.drop(['Pos_y','Age_y','Tm_y','G_y','MP_y'], axis = 1)\n"
   ]
  },
  {
   "cell_type": "code",
   "execution_count": 6,
   "metadata": {},
   "outputs": [],
   "source": [
    "##ADDING ALL_STAR_CALIBER field\n",
    "p1['as_caliber'] = 0\n",
    "p1.loc[p1.sort_values(by='WS', ascending = False).iloc[:30,:].index,'as_caliber'] = 1"
   ]
  },
  {
   "cell_type": "code",
   "execution_count": null,
   "metadata": {},
   "outputs": [],
   "source": [
    "p1.sort_values(by='WS', ascending = False).iloc[:45,:]"
   ]
  },
  {
   "cell_type": "code",
   "execution_count": null,
   "metadata": {},
   "outputs": [],
   "source": [
    "p1.to_csv('players_cleaned.csv')"
   ]
  }
 ],
 "metadata": {
  "kernelspec": {
   "display_name": "Python 3",
   "language": "python",
   "name": "python3"
  },
  "language_info": {
   "codemirror_mode": {
    "name": "ipython",
    "version": 3
   },
   "file_extension": ".py",
   "mimetype": "text/x-python",
   "name": "python",
   "nbconvert_exporter": "python",
   "pygments_lexer": "ipython3",
   "version": "3.6.0"
  }
 },
 "nbformat": 4,
 "nbformat_minor": 2
}
