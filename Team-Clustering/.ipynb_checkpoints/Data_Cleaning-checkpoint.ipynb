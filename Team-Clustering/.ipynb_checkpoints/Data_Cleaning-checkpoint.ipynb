{
 "cells": [
  {
   "cell_type": "markdown",
   "metadata": {},
   "source": [
    "TODO\n",
    "\n",
    "1. Get data on all-stars\n",
    "2. Get data on groupings of teams...(contender, mid-tier, rebuilding) (>50 wins, >40 wins, rest)??\n",
    "3. Get team salary data\n",
    "\n"
   ]
  },
  {
   "cell_type": "code",
   "execution_count": 40,
   "metadata": {},
   "outputs": [],
   "source": [
    "import pandas as pd\n",
    "pd.set_option('display.max_columns', 500)\n",
    "pd.set_option('display.max_columns', 80)\n",
    "\n",
    "import seaborn as sns\n",
    "import matplotlib.pyplot as plt\n",
    "from scipy import stats\n",
    "import numpy as np\n",
    "import math"
   ]
  },
  {
   "cell_type": "code",
   "execution_count": 3,
   "metadata": {},
   "outputs": [],
   "source": [
    "##LOADING 2018 DATA (2017-2018 NBA Season)\n",
    "\n",
    "team_per100 = pd.read_csv('../Data/Team/2018/team_per100.csv')\n",
    "opp_per100 = pd.read_csv('../Data/Team/2018/opp_per100.csv')\n",
    "misc = pd.read_csv('../Data/Team/2018/misc.csv', skiprows = 1)\n",
    "\n",
    "shooting_col_names = ['Rk', 'Team', 'G', 'MP', 'FG%', 'Dist.',\n",
    "                      'Pct_FGA_by_dist_2P' , 'Pct_FGA_by_dist_0-3', 'Pct_FGA_by_dist_3-10', 'Pct_FGA_by_dist_10-16', 'Pct_FGA_by_dist_16-3pt', 'Pct_FGA_by_dist_3P',\n",
    "                     'FGP_by_dist_2P' , 'FGP_by_dist_0-3', 'FGP_by_dist_3-10', 'FGP_by_dist_10-16', 'FGP_by_dist_16-3pt', 'FGP_by_dist_3P',\n",
    "                     '2FG_%assisted','2FG_dunks_%FGA','2FG_dunks_made','2FG_layups_%FGA','2FG_layups_made',\n",
    "                     '3FG_%assisted','3FG_corner_%3PA','3FG_corner_3P%','3FG_heaves_att','3FG_heaves_made']\n",
    "\n",
    "team_shooting = pd.read_csv('../Data/Team/2018/team_shooting.csv', names = shooting_col_names, skiprows = 3)\n",
    "opp_shooting = pd.read_csv('../Data/Team/2018/opp_shooting.csv', names = shooting_col_names, skiprows = 2)"
   ]
  },
  {
   "cell_type": "code",
   "execution_count": 42,
   "metadata": {},
   "outputs": [],
   "source": [
    "## Selecting Specific Columns\n",
    "team_per100_select = team_per100[['Team' ,'MP', '3PA', '3P%', '2PA', '2P%', 'FTA', 'FT%', 'ORB', 'DRB','AST', 'STL', 'BLK', 'TOV', 'PF', 'PTS']]\n",
    "opp_per100_select = opp_per100[['Team' ,'MP', '3PA', '3P%', '2PA', '2P%', 'FTA', 'FT%', 'ORB', 'DRB','AST', 'STL', 'BLK', 'TOV', 'PF', 'PTS']]\n",
    "\n",
    "team_shooting_select = team_shooting[['Team', 'Dist.', 'Pct_FGA_by_dist_2P','Pct_FGA_by_dist_0-3','Pct_FGA_by_dist_3-10','Pct_FGA_by_dist_10-16','Pct_FGA_by_dist_16-3pt','Pct_FGA_by_dist_3P',\n",
    "                                     'FGP_by_dist_2P','FGP_by_dist_0-3','FGP_by_dist_3-10','FGP_by_dist_10-16','FGP_by_dist_16-3pt','FGP_by_dist_3P','3FG_%assisted','3FG_corner_%3PA','3FG_corner_3P%']]\n",
    "opp_shooting_select = opp_shooting[['Team', 'Dist.', 'Pct_FGA_by_dist_2P','Pct_FGA_by_dist_0-3','Pct_FGA_by_dist_3-10','Pct_FGA_by_dist_10-16','Pct_FGA_by_dist_16-3pt','Pct_FGA_by_dist_3P',\n",
    "                                     'FGP_by_dist_2P','FGP_by_dist_0-3','FGP_by_dist_3-10','FGP_by_dist_10-16','FGP_by_dist_16-3pt','FGP_by_dist_3P','3FG_%assisted','3FG_corner_%3PA','3FG_corner_3P%']]\n",
    "\n",
    "#duplicate TOV rates, must remove\n",
    "misc_select = misc.drop(['Rk','SOS', 'SRS','Arena', 'TOV%', 'TOV%.1'], axis=1)"
   ]
  },
  {
   "cell_type": "code",
   "execution_count": 43,
   "metadata": {},
   "outputs": [],
   "source": [
    "## Renaming OPP columns to ahve prefix 'opp_'\n",
    "opp_per100_select = opp_per100_select.add_prefix('opp_')\n",
    "opp_shooting_select = opp_shooting_select.add_prefix('opp_')\n",
    "\n",
    "#Rename Misc columns eFG%.1 and FT/FGA.1 to have prefix opp\n",
    "misc_select.rename(columns={'eFG%.1':'opp_eFG%'}, inplace=True)\n",
    "misc_select.rename(columns={'FT/FGA.1':'opp_FT/FGA'}, inplace=True)"
   ]
  },
  {
   "cell_type": "code",
   "execution_count": 44,
   "metadata": {},
   "outputs": [],
   "source": [
    "## Creating Joined Table\n",
    "\n",
    "j1 = team_per100_select.merge(opp_per100_select, left_on = 'Team', right_on = 'opp_Team', how = 'left')\n",
    "j2 = j1.merge(team_shooting_select, on='Team', how = 'left')\n",
    "j3 = j2.merge(opp_shooting_select, left_on = 'Team', right_on = 'opp_Team', how = 'left')\n",
    "j4 = j3.merge(misc_select, on='Team', how = 'left')"
   ]
  },
  {
   "cell_type": "code",
   "execution_count": 45,
   "metadata": {},
   "outputs": [],
   "source": [
    "## Creating flag for Playoff team\n",
    "j4['Playoff'] = j4.apply(lambda row: 1 if '*' in row.Team else 0, axis=1)\n",
    "\n",
    "\n",
    "#Creating categorical for Contender, Mid-Tier, Rebuilding\n",
    "def tier (row):\n",
    "    if row['W'] >= 50 :\n",
    "        return 'Contender'\n",
    "    elif row['W'] >= 40:\n",
    "        return 'Mid-Tier'\n",
    "    else:\n",
    "        return 'Rebuilding'\n",
    "    \n",
    "j4['Tier'] = j4.apply(lambda row: tier(row), axis = 1)\n",
    "    \n",
    "#j4['Tier'] = j4.apply(lambda row: 'Contender' if row.W>=50  else if row.W>=40 'Mid-Tier' else 'Rebuilding', axis=1)"
   ]
  },
  {
   "cell_type": "code",
   "execution_count": 46,
   "metadata": {},
   "outputs": [
    {
     "data": {
      "text/html": [
       "<div>\n",
       "<style scoped>\n",
       "    .dataframe tbody tr th:only-of-type {\n",
       "        vertical-align: middle;\n",
       "    }\n",
       "\n",
       "    .dataframe tbody tr th {\n",
       "        vertical-align: top;\n",
       "    }\n",
       "\n",
       "    .dataframe thead th {\n",
       "        text-align: right;\n",
       "    }\n",
       "</style>\n",
       "<table border=\"1\" class=\"dataframe\">\n",
       "  <thead>\n",
       "    <tr style=\"text-align: right;\">\n",
       "      <th></th>\n",
       "      <th>count</th>\n",
       "      <th>mean</th>\n",
       "      <th>std</th>\n",
       "      <th>min</th>\n",
       "      <th>25%</th>\n",
       "      <th>50%</th>\n",
       "      <th>75%</th>\n",
       "      <th>max</th>\n",
       "      <th>norm_std</th>\n",
       "    </tr>\n",
       "  </thead>\n",
       "  <tbody>\n",
       "    <tr>\n",
       "      <th>BLK</th>\n",
       "      <td>30.0</td>\n",
       "      <td>4.926667</td>\n",
       "      <td>0.791303</td>\n",
       "      <td>3.600</td>\n",
       "      <td>4.40000</td>\n",
       "      <td>4.8500</td>\n",
       "      <td>5.3000</td>\n",
       "      <td>7.500</td>\n",
       "      <td>0.160616</td>\n",
       "    </tr>\n",
       "    <tr>\n",
       "      <th>3PA</th>\n",
       "      <td>30.0</td>\n",
       "      <td>29.606667</td>\n",
       "      <td>3.997407</td>\n",
       "      <td>23.300</td>\n",
       "      <td>27.27500</td>\n",
       "      <td>29.4000</td>\n",
       "      <td>31.4750</td>\n",
       "      <td>43.200</td>\n",
       "      <td>0.135017</td>\n",
       "    </tr>\n",
       "    <tr>\n",
       "      <th>FTA</th>\n",
       "      <td>30.0</td>\n",
       "      <td>22.130000</td>\n",
       "      <td>2.237324</td>\n",
       "      <td>17.500</td>\n",
       "      <td>20.42500</td>\n",
       "      <td>22.2000</td>\n",
       "      <td>23.5250</td>\n",
       "      <td>27.300</td>\n",
       "      <td>0.101099</td>\n",
       "    </tr>\n",
       "    <tr>\n",
       "      <th>ORB</th>\n",
       "      <td>30.0</td>\n",
       "      <td>9.920000</td>\n",
       "      <td>0.961464</td>\n",
       "      <td>8.400</td>\n",
       "      <td>9.25000</td>\n",
       "      <td>9.9500</td>\n",
       "      <td>10.5000</td>\n",
       "      <td>12.800</td>\n",
       "      <td>0.096922</td>\n",
       "    </tr>\n",
       "    <tr>\n",
       "      <th>STL</th>\n",
       "      <td>30.0</td>\n",
       "      <td>7.883333</td>\n",
       "      <td>0.715871</td>\n",
       "      <td>6.300</td>\n",
       "      <td>7.60000</td>\n",
       "      <td>7.8500</td>\n",
       "      <td>8.1750</td>\n",
       "      <td>9.300</td>\n",
       "      <td>0.090808</td>\n",
       "    </tr>\n",
       "    <tr>\n",
       "      <th>2PA</th>\n",
       "      <td>30.0</td>\n",
       "      <td>58.310000</td>\n",
       "      <td>4.629467</td>\n",
       "      <td>42.800</td>\n",
       "      <td>56.37500</td>\n",
       "      <td>58.7000</td>\n",
       "      <td>60.1000</td>\n",
       "      <td>66.000</td>\n",
       "      <td>0.079394</td>\n",
       "    </tr>\n",
       "    <tr>\n",
       "      <th>AST</th>\n",
       "      <td>30.0</td>\n",
       "      <td>23.716667</td>\n",
       "      <td>1.785977</td>\n",
       "      <td>20.100</td>\n",
       "      <td>22.77500</td>\n",
       "      <td>23.5000</td>\n",
       "      <td>23.9750</td>\n",
       "      <td>29.300</td>\n",
       "      <td>0.075305</td>\n",
       "    </tr>\n",
       "    <tr>\n",
       "      <th>PF</th>\n",
       "      <td>30.0</td>\n",
       "      <td>20.276667</td>\n",
       "      <td>1.425551</td>\n",
       "      <td>17.400</td>\n",
       "      <td>19.35000</td>\n",
       "      <td>20.1500</td>\n",
       "      <td>20.9750</td>\n",
       "      <td>24.400</td>\n",
       "      <td>0.070305</td>\n",
       "    </tr>\n",
       "    <tr>\n",
       "      <th>TOV</th>\n",
       "      <td>30.0</td>\n",
       "      <td>14.573333</td>\n",
       "      <td>0.917242</td>\n",
       "      <td>12.800</td>\n",
       "      <td>14.00000</td>\n",
       "      <td>14.5500</td>\n",
       "      <td>15.2750</td>\n",
       "      <td>16.400</td>\n",
       "      <td>0.062940</td>\n",
       "    </tr>\n",
       "    <tr>\n",
       "      <th>2P%</th>\n",
       "      <td>30.0</td>\n",
       "      <td>0.510767</td>\n",
       "      <td>0.022092</td>\n",
       "      <td>0.478</td>\n",
       "      <td>0.49350</td>\n",
       "      <td>0.5065</td>\n",
       "      <td>0.5250</td>\n",
       "      <td>0.560</td>\n",
       "      <td>0.043252</td>\n",
       "    </tr>\n",
       "    <tr>\n",
       "      <th>DRB</th>\n",
       "      <td>30.0</td>\n",
       "      <td>34.523333</td>\n",
       "      <td>1.120863</td>\n",
       "      <td>32.400</td>\n",
       "      <td>33.75000</td>\n",
       "      <td>34.5500</td>\n",
       "      <td>35.2750</td>\n",
       "      <td>36.400</td>\n",
       "      <td>0.032467</td>\n",
       "    </tr>\n",
       "    <tr>\n",
       "      <th>FT%</th>\n",
       "      <td>30.0</td>\n",
       "      <td>0.767500</td>\n",
       "      <td>0.023988</td>\n",
       "      <td>0.714</td>\n",
       "      <td>0.75275</td>\n",
       "      <td>0.7720</td>\n",
       "      <td>0.7825</td>\n",
       "      <td>0.815</td>\n",
       "      <td>0.031255</td>\n",
       "    </tr>\n",
       "    <tr>\n",
       "      <th>3P%</th>\n",
       "      <td>30.0</td>\n",
       "      <td>0.361733</td>\n",
       "      <td>0.011283</td>\n",
       "      <td>0.334</td>\n",
       "      <td>0.35425</td>\n",
       "      <td>0.3600</td>\n",
       "      <td>0.3690</td>\n",
       "      <td>0.391</td>\n",
       "      <td>0.031191</td>\n",
       "    </tr>\n",
       "    <tr>\n",
       "      <th>PTS</th>\n",
       "      <td>30.0</td>\n",
       "      <td>108.616667</td>\n",
       "      <td>3.187701</td>\n",
       "      <td>103.500</td>\n",
       "      <td>106.57500</td>\n",
       "      <td>108.7500</td>\n",
       "      <td>110.1750</td>\n",
       "      <td>114.700</td>\n",
       "      <td>0.029348</td>\n",
       "    </tr>\n",
       "    <tr>\n",
       "      <th>MP</th>\n",
       "      <td>30.0</td>\n",
       "      <td>19795.000000</td>\n",
       "      <td>68.732365</td>\n",
       "      <td>19705.000</td>\n",
       "      <td>19736.25000</td>\n",
       "      <td>19792.5000</td>\n",
       "      <td>19830.0000</td>\n",
       "      <td>19955.000</td>\n",
       "      <td>0.003472</td>\n",
       "    </tr>\n",
       "  </tbody>\n",
       "</table>\n",
       "</div>"
      ],
      "text/plain": [
       "     count          mean        std        min          25%         50%  \\\n",
       "BLK   30.0      4.926667   0.791303      3.600      4.40000      4.8500   \n",
       "3PA   30.0     29.606667   3.997407     23.300     27.27500     29.4000   \n",
       "FTA   30.0     22.130000   2.237324     17.500     20.42500     22.2000   \n",
       "ORB   30.0      9.920000   0.961464      8.400      9.25000      9.9500   \n",
       "STL   30.0      7.883333   0.715871      6.300      7.60000      7.8500   \n",
       "2PA   30.0     58.310000   4.629467     42.800     56.37500     58.7000   \n",
       "AST   30.0     23.716667   1.785977     20.100     22.77500     23.5000   \n",
       "PF    30.0     20.276667   1.425551     17.400     19.35000     20.1500   \n",
       "TOV   30.0     14.573333   0.917242     12.800     14.00000     14.5500   \n",
       "2P%   30.0      0.510767   0.022092      0.478      0.49350      0.5065   \n",
       "DRB   30.0     34.523333   1.120863     32.400     33.75000     34.5500   \n",
       "FT%   30.0      0.767500   0.023988      0.714      0.75275      0.7720   \n",
       "3P%   30.0      0.361733   0.011283      0.334      0.35425      0.3600   \n",
       "PTS   30.0    108.616667   3.187701    103.500    106.57500    108.7500   \n",
       "MP    30.0  19795.000000  68.732365  19705.000  19736.25000  19792.5000   \n",
       "\n",
       "            75%        max  norm_std  \n",
       "BLK      5.3000      7.500  0.160616  \n",
       "3PA     31.4750     43.200  0.135017  \n",
       "FTA     23.5250     27.300  0.101099  \n",
       "ORB     10.5000     12.800  0.096922  \n",
       "STL      8.1750      9.300  0.090808  \n",
       "2PA     60.1000     66.000  0.079394  \n",
       "AST     23.9750     29.300  0.075305  \n",
       "PF      20.9750     24.400  0.070305  \n",
       "TOV     15.2750     16.400  0.062940  \n",
       "2P%      0.5250      0.560  0.043252  \n",
       "DRB     35.2750     36.400  0.032467  \n",
       "FT%      0.7825      0.815  0.031255  \n",
       "3P%      0.3690      0.391  0.031191  \n",
       "PTS    110.1750    114.700  0.029348  \n",
       "MP   19830.0000  19955.000  0.003472  "
      ]
     },
     "execution_count": 46,
     "metadata": {},
     "output_type": "execute_result"
    }
   ],
   "source": [
    "#Calculate a normalized standard dev = std/mean of column\n",
    "\n",
    "team_summary = team_per100_select.describe().T\n",
    "sigma = np.array(team_summary[['std']])\n",
    "mu = np.array(team_summary[['mean']])\n",
    "team_summary['norm_std'] = sigma/mu\n",
    "team_summary.sort_values(by='norm_std', axis = 0, ascending = False)"
   ]
  },
  {
   "cell_type": "code",
   "execution_count": 47,
   "metadata": {},
   "outputs": [
    {
     "data": {
      "text/plain": [
       "array([[<matplotlib.axes._subplots.AxesSubplot object at 0x115a41f28>,\n",
       "        <matplotlib.axes._subplots.AxesSubplot object at 0x115a7f048>,\n",
       "        <matplotlib.axes._subplots.AxesSubplot object at 0x115cd6e48>,\n",
       "        <matplotlib.axes._subplots.AxesSubplot object at 0x1162b44e0>],\n",
       "       [<matplotlib.axes._subplots.AxesSubplot object at 0x11628db38>,\n",
       "        <matplotlib.axes._subplots.AxesSubplot object at 0x1166771d0>,\n",
       "        <matplotlib.axes._subplots.AxesSubplot object at 0x1170e0828>,\n",
       "        <matplotlib.axes._subplots.AxesSubplot object at 0x1170f9eb8>],\n",
       "       [<matplotlib.axes._subplots.AxesSubplot object at 0x1170f9ef0>,\n",
       "        <matplotlib.axes._subplots.AxesSubplot object at 0x1159278d0>,\n",
       "        <matplotlib.axes._subplots.AxesSubplot object at 0x117550208>,\n",
       "        <matplotlib.axes._subplots.AxesSubplot object at 0x117554860>],\n",
       "       [<matplotlib.axes._subplots.AxesSubplot object at 0x115157eb8>,\n",
       "        <matplotlib.axes._subplots.AxesSubplot object at 0x1154be550>,\n",
       "        <matplotlib.axes._subplots.AxesSubplot object at 0x115d1fba8>,\n",
       "        <matplotlib.axes._subplots.AxesSubplot object at 0x115d28240>]],\n",
       "      dtype=object)"
      ]
     },
     "execution_count": 47,
     "metadata": {},
     "output_type": "execute_result"
    },
    {
     "data": {
      "image/png": "[encoded data removed]",
      "text/plain": [
       "<Figure size 432x288 with 16 Axes>"
      ]
     },
     "metadata": {},
     "output_type": "display_data"
    }
   ],
   "source": [
    "team_per100_select.hist()"
   ]
  },
  {
   "cell_type": "code",
   "execution_count": 48,
   "metadata": {},
   "outputs": [],
   "source": [
    "#Send correlation to .xlsx to manually select variables that make sense and are not too multicollinear\n",
    "j4.corr().to_csv('correlation_table.csv')"
   ]
  },
  {
   "cell_type": "code",
   "execution_count": 49,
   "metadata": {},
   "outputs": [],
   "source": [
    "#Sorting table by different values\n",
    "#j4.sort_values(by='Tier', axis = 0, ascending = False)"
   ]
  },
  {
   "cell_type": "code",
   "execution_count": 50,
   "metadata": {},
   "outputs": [],
   "source": [
    "#Plot Wins by Playoff and Non Playoff\n",
    "# playoff = j4.loc[j4['Playoff'] == 1]\n",
    "# non_playoff = j4.loc[j4['Playoff'] == 0]\n",
    "\n",
    "# sns.distplot(j4[['W']], color=\"y\")\n",
    "# sns.distplot(playoff[['W']], hist=False, color=\"g\")\n",
    "# sns.distplot(non_playoff[['W']], hist=False, color=\"r\")\n"
   ]
  },
  {
   "cell_type": "code",
   "execution_count": null,
   "metadata": {},
   "outputs": [
    {
     "data": {
      "text/plain": [
       "<matplotlib.axes._subplots.AxesSubplot at 0x115c03eb8>"
      ]
     },
     "execution_count": 51,
     "metadata": {},
     "output_type": "execute_result"
    },
    {
     "data": {
      "image/png": "[encoded data removed]",
      "text/plain": [
       "<Figure size 432x288 with 1 Axes>"
      ]
     },
     "metadata": {},
     "output_type": "display_data"
    },
    {
     "data": {
      "image/png": "[encoded data removed]",
      "text/plain": [
       "<Figure size 432x288 with 1 Axes>"
      ]
     },
     "metadata": {},
     "output_type": "display_data"
    }
   ],
   "source": [
    "#Wins by Tier and Playoff\n",
    "plt.figure()\n",
    "sns.boxplot(x=\"Tier\", y=\"W\", data=j4)\n",
    "plt.figure()\n",
    "sns.boxplot(x=\"Playoff\", y=\"W\", data=j4)"
   ]
  },
  {
   "cell_type": "code",
   "execution_count": null,
   "metadata": {},
   "outputs": [],
   "source": [
    "#j4.select_dtypes(exclude='object')"
   ]
  },
  {
   "cell_type": "code",
   "execution_count": null,
   "metadata": {},
   "outputs": [],
   "source": [
    "for i in j4.select_dtypes(exclude='object'):\n",
    "    plt.figure()\n",
    "    sns.boxplot(x=\"Tier\", y=i, data=j4)\n"
   ]
  },
  {
   "cell_type": "code",
   "execution_count": null,
   "metadata": {},
   "outputs": [],
   "source": [
    "for i in j4.select_dtypes(exclude='object'):\n",
    "    plt.figure()\n",
    "    sns.boxplot(x=\"Playoff\", y=i, data=j4)"
   ]
  },
  {
   "cell_type": "code",
   "execution_count": null,
   "metadata": {},
   "outputs": [],
   "source": [
    "#Correlation Plot\n",
    "\n",
    "sns.set(style=\"white\")\n",
    "\n",
    "# Generate a large random dataset\n",
    "rs = np.random.RandomState(33)\n",
    "d = j4\n",
    "\n",
    "# Compute the correlation matrix\n",
    "corr = d.corr()\n",
    "\n",
    "# Generate a mask for the upper triangle\n",
    "mask = np.zeros_like(corr, dtype=np.bool)\n",
    "mask[np.triu_indices_from(mask)] = True\n",
    "\n",
    "# Set up the matplotlib figure\n",
    "f, ax = plt.subplots(figsize=(20, 20))\n",
    "\n",
    "# Generate a custom diverging colormap\n",
    "cmap = sns.diverging_palette(220, 10, as_cmap=True)\n",
    "\n",
    "# Draw the heatmap with the mask and correct aspect ratio\n",
    "sns.heatmap(corr, mask=mask, cmap=cmap, vmax=.3, center=0,\n",
    "            square=True, linewidths=.5, cbar_kws={\"shrink\": .5})"
   ]
  },
  {
   "cell_type": "code",
   "execution_count": null,
   "metadata": {},
   "outputs": [],
   "source": [
    "#Summary of full table\n",
    "#Calculate a normalized standard dev = std/mean of column\n",
    "\n",
    "summary = j4.describe().T\n",
    "sigma = np.array(summary[['std']])\n",
    "mu = np.array(summary[['mean']])\n",
    "summary['norm_std'] = np.absolute(sigma/mu)\n",
    "summary.sort_values(by='norm_std', axis = 0, ascending = False)"
   ]
  }
 ],
 "metadata": {
  "kernelspec": {
   "display_name": "Python 3",
   "language": "python",
   "name": "python3"
  },
  "language_info": {
   "codemirror_mode": {
    "name": "ipython",
    "version": 3
   },
   "file_extension": ".py",
   "mimetype": "text/x-python",
   "name": "python",
   "nbconvert_exporter": "python",
   "pygments_lexer": "ipython3",
   "version": "3.6.0"
  }
 },
 "nbformat": 4,
 "nbformat_minor": 2
}
