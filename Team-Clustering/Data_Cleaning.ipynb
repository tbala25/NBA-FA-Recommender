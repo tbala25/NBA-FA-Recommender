{
 "cells": [
  {
   "cell_type": "markdown",
   "metadata": {},
   "source": [
    "TODO\n",
    "\n",
    "1. Get data on all-stars\n",
    "2. Get data on groupings of teams...(contender, mid-tier, rebuilding) (>50 wins, >40 wins, rest)??\n",
    "3. Get team salary data\n",
    "\n"
   ]
  },
  {
   "cell_type": "code",
   "execution_count": 1,
   "metadata": {},
   "outputs": [],
   "source": [
    "import pandas as pd\n",
    "pd.set_option('display.max_columns', 500)\n",
    "pd.set_option('display.max_rows', 100)\n",
    "\n",
    "import seaborn as sns\n",
    "import matplotlib.pyplot as plt\n",
    "from scipy import stats\n",
    "import numpy as np\n",
    "import math"
   ]
  },
  {
   "cell_type": "code",
   "execution_count": 2,
   "metadata": {},
   "outputs": [],
   "source": [
    "##LOADING 2018 DATA (2017-2018 NBA Season)\n",
    "\n",
    "team_per100 = pd.read_csv('../Data/Team/2018/team_per100.csv')\n",
    "opp_per100 = pd.read_csv('../Data/Team/2018/opp_per100.csv')\n",
    "misc = pd.read_csv('../Data/Team/2018/misc.csv', skiprows = 1)\n",
    "\n",
    "shooting_col_names = ['Rk', 'Team', 'G', 'MP', 'FG%', 'Dist.',\n",
    "                      'Pct_FGA_by_dist_2P' , 'Pct_FGA_by_dist_0-3', 'Pct_FGA_by_dist_3-10', 'Pct_FGA_by_dist_10-16', 'Pct_FGA_by_dist_16-3pt', 'Pct_FGA_by_dist_3P',\n",
    "                     'FGP_by_dist_2P' , 'FGP_by_dist_0-3', 'FGP_by_dist_3-10', 'FGP_by_dist_10-16', 'FGP_by_dist_16-3pt', 'FGP_by_dist_3P',\n",
    "                     '2FG_%assisted','2FG_dunks_%FGA','2FG_dunks_made','2FG_layups_%FGA','2FG_layups_made',\n",
    "                     '3FG_%assisted','3FG_corner_%3PA','3FG_corner_3P%','3FG_heaves_att','3FG_heaves_made']\n",
    "\n",
    "team_shooting = pd.read_csv('../Data/Team/2018/team_shooting.csv', names = shooting_col_names, skiprows = 3)\n",
    "opp_shooting = pd.read_csv('../Data/Team/2018/opp_shooting.csv', names = shooting_col_names, skiprows = 2)"
   ]
  },
  {
   "cell_type": "code",
   "execution_count": 3,
   "metadata": {},
   "outputs": [],
   "source": [
    "## Selecting Specific Columns\n",
    "team_per100_select = team_per100[['Team' ,'MP', '3PA', '3P%', '2PA', '2P%', 'FTA', 'FT%', 'ORB', 'DRB','AST', 'STL', 'BLK', 'TOV', 'PF', 'PTS']]\n",
    "opp_per100_select = opp_per100[['Team' ,'MP', '3PA', '3P%', '2PA', '2P%', 'FTA', 'FT%', 'ORB', 'DRB','AST', 'STL', 'BLK', 'TOV', 'PF', 'PTS']]\n",
    "\n",
    "team_shooting_select = team_shooting[['Team', 'Dist.', 'Pct_FGA_by_dist_2P','Pct_FGA_by_dist_0-3','Pct_FGA_by_dist_3-10','Pct_FGA_by_dist_10-16','Pct_FGA_by_dist_16-3pt','Pct_FGA_by_dist_3P',\n",
    "                                     'FGP_by_dist_2P','FGP_by_dist_0-3','FGP_by_dist_3-10','FGP_by_dist_10-16','FGP_by_dist_16-3pt','FGP_by_dist_3P','3FG_%assisted','3FG_corner_%3PA','3FG_corner_3P%']]\n",
    "opp_shooting_select = opp_shooting[['Team', 'Dist.', 'Pct_FGA_by_dist_2P','Pct_FGA_by_dist_0-3','Pct_FGA_by_dist_3-10','Pct_FGA_by_dist_10-16','Pct_FGA_by_dist_16-3pt','Pct_FGA_by_dist_3P',\n",
    "                                     'FGP_by_dist_2P','FGP_by_dist_0-3','FGP_by_dist_3-10','FGP_by_dist_10-16','FGP_by_dist_16-3pt','FGP_by_dist_3P','3FG_%assisted','3FG_corner_%3PA','3FG_corner_3P%']]\n",
    "\n",
    "#duplicate TOV rates, must remove\n",
    "misc_select = misc.drop(['Rk','SOS', 'SRS','Arena', 'TOV%', 'TOV%.1'], axis=1)"
   ]
  },
  {
   "cell_type": "code",
   "execution_count": 4,
   "metadata": {},
   "outputs": [],
   "source": [
    "## Renaming OPP columns to ahve prefix 'opp_'\n",
    "opp_per100_select = opp_per100_select.add_prefix('opp_')\n",
    "opp_shooting_select = opp_shooting_select.add_prefix('opp_')\n",
    "\n",
    "#Rename Misc columns eFG%.1 and FT/FGA.1 to have prefix opp\n",
    "misc_select.rename(columns={'eFG%.1':'opp_eFG%'}, inplace=True)\n",
    "misc_select.rename(columns={'FT/FGA.1':'opp_FT/FGA'}, inplace=True)"
   ]
  },
  {
   "cell_type": "code",
   "execution_count": 5,
   "metadata": {},
   "outputs": [],
   "source": [
    "## Creating Joined Table\n",
    "\n",
    "j1 = team_per100_select.merge(opp_per100_select, left_on = 'Team', right_on = 'opp_Team', how = 'left')\n",
    "j2 = j1.merge(team_shooting_select, on='Team', how = 'left')\n",
    "j3 = j2.merge(opp_shooting_select, left_on = 'Team', right_on = 'opp_Team', how = 'left')\n",
    "j4 = j3.merge(misc_select, on='Team', how = 'left')"
   ]
  },
  {
   "cell_type": "code",
   "execution_count": 6,
   "metadata": {},
   "outputs": [],
   "source": [
    "## Creating flag for Playoff team\n",
    "j4['Playoff'] = j4.apply(lambda row: 1 if '*' in row.Team else 0, axis=1)\n",
    "\n",
    "\n",
    "#Creating categorical for Contender, Mid-Tier, Rebuilding\n",
    "def tier (row):\n",
    "    if row['W'] >= 50 :\n",
    "        return 'Contender'\n",
    "    elif row['W'] >= 38:\n",
    "        return 'Mid-Tier'\n",
    "    else:\n",
    "        return 'Rebuilding'\n",
    "    \n",
    "j4['Tier'] = j4.apply(lambda row: tier(row), axis = 1)\n",
    "    \n",
    "#j4['Tier'] = j4.apply(lambda row: 'Contender' if row.W>=50  else if row.W>=40 'Mid-Tier' else 'Rebuilding', axis=1)"
   ]
  },
  {
   "cell_type": "code",
   "execution_count": 7,
   "metadata": {},
   "outputs": [
    {
     "data": {
      "text/plain": [
       "array([[<matplotlib.axes._subplots.AxesSubplot object at 0x113d8f8d0>,\n",
       "        <matplotlib.axes._subplots.AxesSubplot object at 0x113df8c50>,\n",
       "        <matplotlib.axes._subplots.AxesSubplot object at 0x113e2c160>,\n",
       "        <matplotlib.axes._subplots.AxesSubplot object at 0x113e516d8>],\n",
       "       [<matplotlib.axes._subplots.AxesSubplot object at 0x113e77c50>,\n",
       "        <matplotlib.axes._subplots.AxesSubplot object at 0x113ea7208>,\n",
       "        <matplotlib.axes._subplots.AxesSubplot object at 0x113ecb780>,\n",
       "        <matplotlib.axes._subplots.AxesSubplot object at 0x113ef0d30>],\n",
       "       [<matplotlib.axes._subplots.AxesSubplot object at 0x113ef0d68>,\n",
       "        <matplotlib.axes._subplots.AxesSubplot object at 0x113f48828>,\n",
       "        <matplotlib.axes._subplots.AxesSubplot object at 0x113f6fda0>,\n",
       "        <matplotlib.axes._subplots.AxesSubplot object at 0x113fa0358>],\n",
       "       [<matplotlib.axes._subplots.AxesSubplot object at 0x113fc68d0>,\n",
       "        <matplotlib.axes._subplots.AxesSubplot object at 0x113feee48>,\n",
       "        <matplotlib.axes._subplots.AxesSubplot object at 0x11481f400>,\n",
       "        <matplotlib.axes._subplots.AxesSubplot object at 0x114844978>]],\n",
       "      dtype=object)"
      ]
     },
     "execution_count": 7,
     "metadata": {},
     "output_type": "execute_result"
    },
    {
     "data": {
      "image/png": "[encoded data removed]",
      "text/plain": [
       "<Figure size 432x288 with 16 Axes>"
      ]
     },
     "metadata": {
      "needs_background": "light"
     },
     "output_type": "display_data"
    }
   ],
   "source": [
    "team_per100_select.hist()"
   ]
  },
  {
   "cell_type": "code",
   "execution_count": 8,
   "metadata": {},
   "outputs": [],
   "source": [
    "#Send correlation to .xlsx to manually select variables that make sense and are not too multicollinear\n",
    "j4.corr().to_csv('correlation_table.csv')"
   ]
  },
  {
   "cell_type": "code",
   "execution_count": null,
   "metadata": {},
   "outputs": [],
   "source": [
    "#Sorting table by different values\n",
    "#j4.sort_values(by='Tier', axis = 0, ascending = False)"
   ]
  },
  {
   "cell_type": "code",
   "execution_count": null,
   "metadata": {},
   "outputs": [],
   "source": [
    "#Plot Wins by Playoff and Non Playoff\n",
    "# playoff = j4.loc[j4['Playoff'] == 1]\n",
    "# non_playoff = j4.loc[j4['Playoff'] == 0]\n",
    "\n",
    "# sns.distplot(j4[['W']], color=\"y\")\n",
    "# sns.distplot(playoff[['W']], hist=False, color=\"g\")\n",
    "# sns.distplot(non_playoff[['W']], hist=False, color=\"r\")\n"
   ]
  },
  {
   "cell_type": "code",
   "execution_count": null,
   "metadata": {},
   "outputs": [],
   "source": [
    "#Wins by Tier and Playoff\n",
    "plt.figure()\n",
    "sns.boxplot(x=\"Tier\", y=\"W\", data=j4)\n",
    "plt.figure()\n",
    "sns.boxplot(x=\"Playoff\", y=\"W\", data=j4)"
   ]
  },
  {
   "cell_type": "code",
   "execution_count": null,
   "metadata": {},
   "outputs": [],
   "source": [
    "#j4.select_dtypes(exclude='object')"
   ]
  },
  {
   "cell_type": "code",
   "execution_count": null,
   "metadata": {},
   "outputs": [],
   "source": [
    "for i in j4.select_dtypes(exclude='object'):\n",
    "    plt.figure()\n",
    "    sns.boxplot(x=\"Tier\", y=i, data=j4)\n"
   ]
  },
  {
   "cell_type": "code",
   "execution_count": null,
   "metadata": {},
   "outputs": [],
   "source": [
    "for i in j4.select_dtypes(exclude='object'):\n",
    "    plt.figure()\n",
    "    sns.boxplot(x=\"Playoff\", y=i, data=j4)"
   ]
  },
  {
   "cell_type": "code",
   "execution_count": null,
   "metadata": {},
   "outputs": [],
   "source": [
    "#Correlation Plot\n",
    "\n",
    "sns.set(style=\"white\")\n",
    "\n",
    "# Generate a large random dataset\n",
    "rs = np.random.RandomState(33)\n",
    "d = j4\n",
    "\n",
    "# Compute the correlation matrix\n",
    "corr = d.corr()\n",
    "\n",
    "# Generate a mask for the upper triangle\n",
    "mask = np.zeros_like(corr, dtype=np.bool)\n",
    "mask[np.triu_indices_from(mask)] = True\n",
    "\n",
    "# Set up the matplotlib figure\n",
    "f, ax = plt.subplots(figsize=(20, 20))\n",
    "\n",
    "# Generate a custom diverging colormap\n",
    "cmap = sns.diverging_palette(220, 10, as_cmap=True)\n",
    "\n",
    "# Draw the heatmap with the mask and correct aspect ratio\n",
    "sns.heatmap(corr, mask=mask, cmap=cmap, vmax=.3, center=0,\n",
    "            square=True, linewidths=.5, cbar_kws={\"shrink\": .5})"
   ]
  },
  {
   "cell_type": "code",
   "execution_count": null,
   "metadata": {
    "scrolled": false
   },
   "outputs": [],
   "source": [
    "#Summary of full table\n",
    "#Calculate a normalized standard dev = std/mean of column\n",
    "\n",
    "summary = j4.describe().T\n",
    "sigma = np.array(summary[['std']])\n",
    "mu = np.array(summary[['mean']])\n",
    "summary['norm_std'] = np.absolute(sigma/mu)\n",
    "summary.sort_values(by='norm_std', axis = 0, ascending = False)"
   ]
  },
  {
   "cell_type": "code",
   "execution_count": null,
   "metadata": {},
   "outputs": [],
   "source": [
    "j4.to_csv('teams_cleaned.csv')"
   ]
  },
  {
   "cell_type": "code",
   "execution_count": null,
   "metadata": {},
   "outputs": [],
   "source": []
  }
 ],
 "metadata": {
  "kernelspec": {
   "display_name": "Python 3",
   "language": "python",
   "name": "python3"
  },
  "language_info": {
   "codemirror_mode": {
    "name": "ipython",
    "version": 3
   },
   "file_extension": ".py",
   "mimetype": "text/x-python",
   "name": "python",
   "nbconvert_exporter": "python",
   "pygments_lexer": "ipython3",
   "version": "3.6.0"
  }
 },
 "nbformat": 4,
 "nbformat_minor": 2
}
